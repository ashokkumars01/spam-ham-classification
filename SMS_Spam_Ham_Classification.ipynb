{
 "cells": [
  {
   "cell_type": "code",
   "execution_count": 1,
   "metadata": {},
   "outputs": [
    {
     "data": {
      "text/plain": [
       "'\\nCreated on Mon Sep 13 20:00:20 2021\\n\\n@author: Ashok Kumar S\\n'"
      ]
     },
     "execution_count": 1,
     "metadata": {},
     "output_type": "execute_result"
    }
   ],
   "source": [
    "# -*- coding: utf-8 -*-\n",
    "\"\"\"\n",
    "Created on Mon Sep 13 20:00:20 2021\n",
    "\n",
    "@author: Ashok Kumar S\n",
    "\"\"\""
   ]
  },
  {
   "cell_type": "markdown",
   "metadata": {},
   "source": [
    "# Logging"
   ]
  },
  {
   "cell_type": "code",
   "execution_count": 2,
   "metadata": {},
   "outputs": [],
   "source": [
    "import logging\n",
    "from logger_app import logs"
   ]
  },
  {
   "cell_type": "markdown",
   "metadata": {},
   "source": [
    "# Importing Libraries"
   ]
  },
  {
   "cell_type": "code",
   "execution_count": 3,
   "metadata": {},
   "outputs": [],
   "source": [
    "try:\n",
    "    logging.info(\"Importing Required Dependencies\")\n",
    "    import pandas as pd\n",
    "    from sklearn.feature_extraction.text import CountVectorizer\n",
    "    from sklearn.naive_bayes import MultinomialNB\n",
    "    from sklearn.linear_model import LogisticRegression\n",
    "    from sklearn.ensemble import AdaBoostClassifier\n",
    "    from sklearn.ensemble import ExtraTreesClassifier\n",
    "    from sklearn.ensemble import GradientBoostingClassifier\n",
    "    from sklearn.svm import LinearSVC\n",
    "    from sklearn.svm import SVC\n",
    "    from sklearn.tree import DecisionTreeClassifier\n",
    "    from sklearn.tree import ExtraTreeClassifier\n",
    "    from xgboost import XGBClassifier\n",
    "    import matplotlib.pyplot as plt\n",
    "    import seaborn as sns\n",
    "    import numpy as np\n",
    "    import mysql.connector\n",
    "    import pickle\n",
    "    from sklearn.metrics import confusion_matrix, accuracy_score, classification_report\n",
    "except Exception as e:\n",
    "    print(e)\n",
    "    logging.exception(e)"
   ]
  },
  {
   "cell_type": "markdown",
   "metadata": {},
   "source": [
    "# Reading the data from MySQL Database\n",
    "## Connecting a Database"
   ]
  },
  {
   "cell_type": "code",
   "execution_count": 4,
   "metadata": {},
   "outputs": [],
   "source": [
    "class database:\n",
    "    \n",
    "    def __init__(self):\n",
    "        pass\n",
    "    \n",
    "    def connect_database():\n",
    "    \n",
    "        try:\n",
    "            logging.info(\"Connecting a Database\")\n",
    "            mydb = mysql.connector.connect(\n",
    "                    host = \"localhost\",\n",
    "                    user = \"root\",\n",
    "                    passwd = \"********\",# Give your database password\n",
    "                    database = \"spam_ham\")\n",
    "            return mydb\n",
    "        except Exception as e:\n",
    "            print(e)\n",
    "            logging.exception(e)\n",
    "            \n",
    "        \n",
    "mydb = database.connect_database()"
   ]
  },
  {
   "cell_type": "markdown",
   "metadata": {},
   "source": [
    "# Read the data"
   ]
  },
  {
   "cell_type": "code",
   "execution_count": 5,
   "metadata": {},
   "outputs": [],
   "source": [
    "class readdata:\n",
    "    \n",
    "    def __init__(self, db):\n",
    "        self.db = db\n",
    "        \n",
    "    def read_df(self):\n",
    "    \n",
    "        try:\n",
    "            logging.info(\"Reading the Data from MySQL\")\n",
    "            df = pd.read_sql(\"SELECT * FROM data\", con=self.db)\n",
    "            return df\n",
    "        except Exception as e:\n",
    "            print(e)\n",
    "            logging.exception(e)\n",
    "\n",
    "obj = readdata(mydb)\n",
    "df = obj.read_df()"
   ]
  },
  {
   "cell_type": "markdown",
   "metadata": {},
   "source": [
    "# Exploratory Data Analysis"
   ]
  },
  {
   "cell_type": "code",
   "execution_count": 6,
   "metadata": {},
   "outputs": [
    {
     "name": "stdout",
     "output_type": "stream",
     "text": [
      "<class 'pandas.core.frame.DataFrame'>\n",
      "RangeIndex: 6606 entries, 0 to 6605\n",
      "Data columns (total 2 columns):\n",
      " #   Column   Non-Null Count  Dtype \n",
      "---  ------   --------------  ----- \n",
      " 0   Label    6606 non-null   object\n",
      " 1   Message  6606 non-null   object\n",
      "dtypes: object(2)\n",
      "memory usage: 103.3+ KB\n",
      "None\n",
      "Label      0\n",
      "Message    0\n",
      "dtype: int64\n"
     ]
    }
   ],
   "source": [
    "try:\n",
    "    logging.info(\"Exploratory Data Analysis\")\n",
    "    info = df.info()\n",
    "\n",
    "    null = df.isnull().sum()\n",
    "\n",
    "    print(info)\n",
    "    print(null)\n",
    "except Exception as e:\n",
    "    print(e)\n",
    "    logging.exception(e)"
   ]
  },
  {
   "cell_type": "markdown",
   "metadata": {},
   "source": [
    "# Replacing a value ham as 0 and spam as 1"
   ]
  },
  {
   "cell_type": "code",
   "execution_count": 7,
   "metadata": {},
   "outputs": [],
   "source": [
    "class value:\n",
    "    \n",
    "    def __init__(self):\n",
    "        pass\n",
    "    \n",
    "    def replace_val():\n",
    "    \n",
    "        try:\n",
    "            logging.info(\"Replacing a value with ham as 0 and spam as 1\")\n",
    "            df.replace({\"ham\":0, \"spam\":1}, inplace=True)\n",
    "            return df\n",
    "        except Exception as e:\n",
    "            print(e)\n",
    "            logging.exception(e)\n",
    "\n",
    "df = value.replace_val() "
   ]
  },
  {
   "cell_type": "markdown",
   "metadata": {},
   "source": [
    "# Plotting histogram of Label"
   ]
  },
  {
   "cell_type": "code",
   "execution_count": 8,
   "metadata": {},
   "outputs": [
    {
     "data": {
      "image/png": "[encoded data removed]",
      "text/plain": [
       "<Figure size 432x288 with 1 Axes>"
      ]
     },
     "metadata": {
      "needs_background": "light"
     },
     "output_type": "display_data"
    }
   ],
   "source": [
    "class plot:\n",
    "    def __init__(self):\n",
    "        pass\n",
    "    \n",
    "    def hist_plot():\n",
    "        try:\n",
    "            logging.info(\"Plotting histogram\")\n",
    "            plt.hist(df['Label'],rwidth=0.95, color='g')\n",
    "            plt.xlabel(\"Sapm & Ham\")\n",
    "            plt.ylabel(\"Frequency\")\n",
    "            plt.title(\"Label\")\n",
    "            plt.show()\n",
    "        except Exception as e:\n",
    "            print(e)\n",
    "            logging.exception(e)\n",
    "        \n",
    "plot.hist_plot()"
   ]
  },
  {
   "cell_type": "markdown",
   "metadata": {},
   "source": [
    "# Independent and Dependent variables"
   ]
  },
  {
   "cell_type": "code",
   "execution_count": 9,
   "metadata": {},
   "outputs": [],
   "source": [
    "class variables:\n",
    "    \n",
    "    def __init__(self):\n",
    "        pass\n",
    "    \n",
    "    def ind_dep():\n",
    "    \n",
    "        try:\n",
    "            logging.info(\"Independent and Dependent variables\")\n",
    "            X = df['Message']\n",
    "            Y = df['Label']\n",
    "            return X, Y\n",
    "        except Exception as e:\n",
    "            print(e)\n",
    "            logging.exception(e)\n",
    "\n",
    "X, Y = variables.ind_dep()"
   ]
  },
  {
   "cell_type": "markdown",
   "metadata": {},
   "source": [
    "# Extract Feature With CountVectorizer"
   ]
  },
  {
   "cell_type": "code",
   "execution_count": 10,
   "metadata": {},
   "outputs": [
    {
     "name": "stdout",
     "output_type": "stream",
     "text": [
      "[[0 0 0 ... 0 0 0]\n",
      " [0 0 0 ... 0 0 0]\n",
      " [0 0 0 ... 0 0 0]\n",
      " ...\n",
      " [0 0 0 ... 0 0 0]\n",
      " [0 0 0 ... 0 0 0]\n",
      " [0 0 0 ... 0 0 0]]\n"
     ]
    }
   ],
   "source": [
    "class feature:\n",
    "    \n",
    "    def __init__(self, X):\n",
    "        self.X = X\n",
    "        \n",
    "    def count_vector(self):\n",
    "    \n",
    "        try:\n",
    "            logging.info(\"Extract Feature With CountVectorizer\")\n",
    "            cv = CountVectorizer()\n",
    "            X = cv.fit_transform(self.X)\n",
    "            return X, cv\n",
    "        except Exception as e:\n",
    "            print(e)\n",
    "            logging.exception(e)\n",
    "        \n",
    "obj = feature(X)  \n",
    "X, cv = obj.count_vector()\n",
    "\n",
    "print(X.toarray())"
   ]
  },
  {
   "cell_type": "markdown",
   "metadata": {},
   "source": [
    "# Dumping Extracted features to pickle file"
   ]
  },
  {
   "cell_type": "code",
   "execution_count": 11,
   "metadata": {},
   "outputs": [],
   "source": [
    "class file:\n",
    "    \n",
    "    def __init__(self):\n",
    "        pass\n",
    "    \n",
    "    def dump():\n",
    "        try:\n",
    "            logging.info(\"Dumping Extracted features to pickle file\")\n",
    "            pickle.dump(cv, open(r'C:\\Users\\prash\\Desktop\\data\\SMS_Spam_Ham_Classification\\transform.pkl','wb'))\n",
    "        except Exception as e:\n",
    "            print(e)\n",
    "            logging.exception(e)\n",
    "\n",
    "file.dump()"
   ]
  },
  {
   "cell_type": "markdown",
   "metadata": {},
   "source": [
    "# Splitting the data into Train and Test"
   ]
  },
  {
   "cell_type": "code",
   "execution_count": 12,
   "metadata": {},
   "outputs": [],
   "source": [
    "from sklearn.model_selection import train_test_split\n",
    "\n",
    "class traintest:\n",
    "    \n",
    "    def __init__(self, X, Y):\n",
    "        self.X = X\n",
    "        self.Y = Y\n",
    "        \n",
    "    def data_split(self):\n",
    "        try:\n",
    "            logging.info(\"Splitting the data into Train and Test\")\n",
    "            X_train, X_test, Y_train, Y_test = train_test_split(self.X, self.Y, test_size=0.20, random_state=0)\n",
    "            return  X_train, X_test, Y_train, Y_test\n",
    "        except Exception as e:\n",
    "            print(e)\n",
    "            logging.exception(e)\n",
    "    \n",
    "obj = traintest(X, Y)\n",
    "X_train, X_test, Y_train, Y_test = obj.data_split()"
   ]
  },
  {
   "cell_type": "code",
   "execution_count": 13,
   "metadata": {},
   "outputs": [
    {
     "name": "stdout",
     "output_type": "stream",
     "text": [
      "[[0 0 0 ... 0 0 0]\n",
      " [0 0 0 ... 0 0 0]\n",
      " [0 0 0 ... 0 0 0]\n",
      " ...\n",
      " [0 0 0 ... 0 0 0]\n",
      " [0 0 0 ... 0 0 0]\n",
      " [0 0 0 ... 0 0 0]]\n",
      "2584    0\n",
      "5530    0\n",
      "1526    0\n",
      "3784    0\n",
      "4357    0\n",
      "       ..\n",
      "4931    1\n",
      "3264    0\n",
      "1653    0\n",
      "2607    0\n",
      "2732    0\n",
      "Name: Label, Length: 5284, dtype: int64\n"
     ]
    }
   ],
   "source": [
    "print(X_train.toarray())\n",
    "print(Y_train)"
   ]
  },
  {
   "cell_type": "markdown",
   "metadata": {},
   "source": [
    "# Model Building"
   ]
  },
  {
   "cell_type": "code",
   "execution_count": 14,
   "metadata": {},
   "outputs": [
    {
     "name": "stdout",
     "output_type": "stream",
     "text": [
      "MultinomialNB\n",
      "0.981089258698941\n",
      "[[1127   13]\n",
      " [  12  170]]\n",
      "0.981089258698941\n",
      "              precision    recall  f1-score   support\n",
      "\n",
      "           0       0.99      0.99      0.99      1140\n",
      "           1       0.93      0.93      0.93       182\n",
      "\n",
      "    accuracy                           0.98      1322\n",
      "   macro avg       0.96      0.96      0.96      1322\n",
      "weighted avg       0.98      0.98      0.98      1322\n",
      "\n",
      "LogisticRegression\n",
      "0.9871406959152799\n",
      "[[1140    0]\n",
      " [  17  165]]\n",
      "0.9871406959152799\n",
      "              precision    recall  f1-score   support\n",
      "\n",
      "           0       0.99      1.00      0.99      1140\n",
      "           1       1.00      0.91      0.95       182\n",
      "\n",
      "    accuracy                           0.99      1322\n",
      "   macro avg       0.99      0.95      0.97      1322\n",
      "weighted avg       0.99      0.99      0.99      1322\n",
      "\n",
      "AdaBoostClassifier\n",
      "0.972768532526475\n",
      "[[1132    8]\n",
      " [  28  154]]\n",
      "0.972768532526475\n",
      "              precision    recall  f1-score   support\n",
      "\n",
      "           0       0.98      0.99      0.98      1140\n",
      "           1       0.95      0.85      0.90       182\n",
      "\n",
      "    accuracy                           0.97      1322\n",
      "   macro avg       0.96      0.92      0.94      1322\n",
      "weighted avg       0.97      0.97      0.97      1322\n",
      "\n",
      "ExtraTreesClassifier\n",
      "0.9878971255673222\n",
      "[[1139    1]\n",
      " [  15  167]]\n",
      "0.9878971255673222\n",
      "              precision    recall  f1-score   support\n",
      "\n",
      "           0       0.99      1.00      0.99      1140\n",
      "           1       0.99      0.92      0.95       182\n",
      "\n",
      "    accuracy                           0.99      1322\n",
      "   macro avg       0.99      0.96      0.97      1322\n",
      "weighted avg       0.99      0.99      0.99      1322\n",
      "\n",
      "GradientBoostingClassifier\n",
      "0.9795763993948563\n",
      "[[1140    0]\n",
      " [  27  155]]\n",
      "0.9795763993948563\n",
      "              precision    recall  f1-score   support\n",
      "\n",
      "           0       0.98      1.00      0.99      1140\n",
      "           1       1.00      0.85      0.92       182\n",
      "\n",
      "    accuracy                           0.98      1322\n",
      "   macro avg       0.99      0.93      0.95      1322\n",
      "weighted avg       0.98      0.98      0.98      1322\n",
      "\n"
     ]
    },
    {
     "name": "stderr",
     "output_type": "stream",
     "text": [
      "C:\\Users\\prash\\anaconda3\\lib\\site-packages\\xgboost\\sklearn.py:1146: UserWarning: The use of label encoder in XGBClassifier is deprecated and will be removed in a future release. To remove this warning, do the following: 1) Pass option use_label_encoder=False when constructing XGBClassifier object; and 2) Encode your labels (y) as integers starting with 0, i.e. 0, 1, 2, ..., [num_class - 1].\n",
      "  warnings.warn(label_encoder_deprecation_msg, UserWarning)\n"
     ]
    },
    {
     "name": "stdout",
     "output_type": "stream",
     "text": [
      "[23:06:17] WARNING: C:/Users/Administrator/workspace/xgboost-win64_release_1.4.0/src/learner.cc:1095: Starting in XGBoost 1.3.0, the default evaluation metric used with the objective 'binary:logistic' was changed from 'error' to 'logloss'. Explicitly set eval_metric if you'd like to restore the old behavior.\n",
      "XGBClassifier\n",
      "0.9841149773071104\n",
      "[[1136    4]\n",
      " [  17  165]]\n",
      "0.9841149773071104\n",
      "              precision    recall  f1-score   support\n",
      "\n",
      "           0       0.99      1.00      0.99      1140\n",
      "           1       0.98      0.91      0.94       182\n",
      "\n",
      "    accuracy                           0.98      1322\n",
      "   macro avg       0.98      0.95      0.97      1322\n",
      "weighted avg       0.98      0.98      0.98      1322\n",
      "\n"
     ]
    }
   ],
   "source": [
    "class model:\n",
    "    \n",
    "    def __init__(self, X_train, X_test, Y_train, Y_test):\n",
    "        self.X_train = X_train\n",
    "        self.X_test = X_test\n",
    "        self.Y_train = Y_train\n",
    "        self.Y_test = Y_test\n",
    "        \n",
    "    def naive_bayes(self):\n",
    "        try:\n",
    "            logging.info(\"Fitting the Model Using MultinomialNB\")\n",
    "            ## Fitting the Model Using MultinomialNB\n",
    "            NB = MultinomialNB()\n",
    "            NB.fit(self.X_train, self.Y_train)\n",
    "            YNB_pred = NB.predict(self.X_test)\n",
    "            print(\"MultinomialNB\")\n",
    "            print(NB.score(self.X_test, self.Y_test))\n",
    "            print(confusion_matrix(self.Y_test, YNB_pred))\n",
    "            print(accuracy_score(self.Y_test, YNB_pred))\n",
    "            print(classification_report(self.Y_test, YNB_pred))\n",
    "            return YNB_pred, NB\n",
    "        except Exception as e:\n",
    "            print(e)\n",
    "            logging.exception(e)\n",
    "    \n",
    "    def logistic_regression(self):\n",
    "        try:\n",
    "            logging.info(\"Fitting the Model Using LogisticRegression\")\n",
    "            ## Fitting the Model Using LogisticRegression\n",
    "            LR = LogisticRegression()\n",
    "            LR.fit(self.X_train, self.Y_train)\n",
    "            YLR_pred = LR.predict(self.X_test)\n",
    "            print(\"LogisticRegression\")\n",
    "            print(LR.score(self.X_test, self.Y_test))\n",
    "            print(confusion_matrix(self.Y_test, YLR_pred))\n",
    "            print(accuracy_score(self.Y_test, YLR_pred))\n",
    "            print(classification_report(self.Y_test, YLR_pred))\n",
    "            return YLR_pred, LR\n",
    "        except Exception as e:\n",
    "            print(e)\n",
    "            logging.exception(e)\n",
    "    \n",
    "    def ada_boost(self):\n",
    "        try:\n",
    "            logging.info(\"Fitting the Model Using AdaBoostClassifier\")\n",
    "            ## Fitting the Model Using AdaBoostClassifier\n",
    "            ABC = AdaBoostClassifier()\n",
    "            ABC.fit(self.X_train, self.Y_train)\n",
    "            YABC_pred = ABC.predict(self.X_test)\n",
    "            print(\"AdaBoostClassifier\")\n",
    "            print(ABC.score(self.X_test, self.Y_test))\n",
    "            print(confusion_matrix(self.Y_test, YABC_pred))\n",
    "            print(accuracy_score(self.Y_test, YABC_pred))\n",
    "            print(classification_report(self.Y_test, YABC_pred))\n",
    "            return YABC_pred, ABC\n",
    "        except Exception as e:\n",
    "            print(e)\n",
    "            logging.exception(e)\n",
    "    \n",
    "    def extra_tree(self):\n",
    "        try:\n",
    "            logging.info(\"Fitting the Model Using ExtraTreesClassifier\")\n",
    "            ## Fitting the Model Using ExtraTreesClassifier\n",
    "            ETC = ExtraTreesClassifier()\n",
    "            ETC.fit(self.X_train, self.Y_train)\n",
    "            YETC_pred = ETC.predict(self.X_test)\n",
    "            print(\"ExtraTreesClassifier\")\n",
    "            print(ETC.score(self.X_test, self.Y_test))\n",
    "            print(confusion_matrix(self.Y_test, YETC_pred))\n",
    "            print(accuracy_score(self.Y_test, YETC_pred))\n",
    "            print(classification_report(self.Y_test, YETC_pred))\n",
    "            return YETC_pred, ETC\n",
    "        except Exception as e:\n",
    "            print(e)\n",
    "            logging.exception(e)\n",
    "    \n",
    "    def gradient_boost(self):\n",
    "        try:\n",
    "            logging.info(\"Fitting the Model Using GradientBoostingClassifier\")\n",
    "            ## Fitting the Model Using GradientBoostingClassifier\n",
    "            GBC = GradientBoostingClassifier()\n",
    "            GBC.fit(self.X_train, self.Y_train)\n",
    "            YGBC_pred = GBC.predict(self.X_test)\n",
    "            print(\"GradientBoostingClassifier\")\n",
    "            print(GBC.score(self.X_test, self.Y_test))\n",
    "            print(confusion_matrix(self.Y_test, YGBC_pred))\n",
    "            print(accuracy_score(self.Y_test, YGBC_pred))\n",
    "            print(classification_report(self.Y_test, YGBC_pred))\n",
    "            return YGBC_pred, GBC\n",
    "        except Exception as e:\n",
    "            print(e)\n",
    "            logging.exception(e)\n",
    "    \n",
    "    def xgboost(self):\n",
    "        try:\n",
    "            logging.info(\"Fitting the Model Using XGBClassifier\")\n",
    "            ## Fitting the Model Using XGBClassifier\n",
    "            xgb = XGBClassifier()\n",
    "            xgb.fit(self.X_train, self.Y_train)\n",
    "            Yxgb_pred = xgb.predict(self.X_test)\n",
    "            print(\"XGBClassifier\")\n",
    "            print(xgb.score(self.X_test, self.Y_test))\n",
    "            print(confusion_matrix(self.Y_test, Yxgb_pred))\n",
    "            print(accuracy_score(self.Y_test, Yxgb_pred))\n",
    "            print(classification_report(self.Y_test, Yxgb_pred))\n",
    "            return Yxgb_pred, xgb\n",
    "        except Exception as e:\n",
    "            print(e)\n",
    "            logging.exception(e)\n",
    "    \n",
    "        \n",
    "obj = model(X_train, X_test, Y_train, Y_test)\n",
    "YNB_pred, NB = obj.naive_bayes()\n",
    "YLR_pred, LR = obj.logistic_regression()\n",
    "YABC_pred, ABC = obj.ada_boost()\n",
    "YETC_pred, ETC = obj.extra_tree()\n",
    "YGBC_pred, GBC = obj.gradient_boost()\n",
    "Yxgb_pred, xgb = obj.xgboost()"
   ]
  },
  {
   "cell_type": "markdown",
   "metadata": {},
   "source": [
    "# Dumping the Model to pickle file"
   ]
  },
  {
   "cell_type": "code",
   "execution_count": 15,
   "metadata": {},
   "outputs": [],
   "source": [
    "class pkl:\n",
    "    \n",
    "    def __init__(self):\n",
    "        pass\n",
    "    \n",
    "    def spam_ham():\n",
    "        try:\n",
    "            logging.info(\"Dumping the Model to pickle file\")\n",
    "            pickle.dump(LR, open(r'C:\\Users\\prash\\Desktop\\data\\SMS_Spam_Ham_Classification\\Logistic_Regression.pkl','wb'))\n",
    "            pickle.dump(NB, open(r'C:\\Users\\prash\\Desktop\\data\\SMS_Spam_Ham_Classification\\Naive_Bayes.pkl','wb'))\n",
    "            pickle.dump(ABC, open(r'C:\\Users\\prash\\Desktop\\data\\SMS_Spam_Ham_Classification\\Adaboost_classifier.pkl','wb'))\n",
    "            pickle.dump(ETC, open(r'C:\\Users\\prash\\Desktop\\data\\SMS_Spam_Ham_Classification\\Extratrees_classifier.pkl','wb'))\n",
    "            pickle.dump(GBC, open(r'C:\\Users\\prash\\Desktop\\data\\SMS_Spam_Ham_Classification\\Gradientboost_classifier.pkl','wb'))\n",
    "            pickle.dump(xgb, open(r'C:\\Users\\prash\\Desktop\\data\\SMS_Spam_Ham_Classification\\XGBoost_classifier.pkl','wb'))\n",
    "        except Exception as e:\n",
    "            print(e)\n",
    "            logging.exception(e)\n",
    "\n",
    "pkl.spam_ham()"
   ]
  },
  {
   "cell_type": "markdown",
   "metadata": {},
   "source": [
    "# Prediction"
   ]
  },
  {
   "cell_type": "code",
   "execution_count": 16,
   "metadata": {},
   "outputs": [
    {
     "name": "stdout",
     "output_type": "stream",
     "text": [
      "[1]\n",
      "Prediction is Spam\n"
     ]
    }
   ],
   "source": [
    "class pred:\n",
    "    \n",
    "    def __init__(self, data):\n",
    "        self.data = data\n",
    "        \n",
    "    def prediction(self):\n",
    "        try:\n",
    "            logging.info(\"Prediction on user data\")\n",
    "            data = cv.transform(self.data)\n",
    "            y_pred = LR.predict(data)\n",
    "            print(y_pred)\n",
    "            if y_pred == 0:\n",
    "                print(\"Prediction is Ham\")\n",
    "            else:\n",
    "                print(\"Prediction is Spam\")\n",
    "        except Exception as e:\n",
    "            print(e)\n",
    "            logging.exception(e)\n",
    "            \n",
    "data = [\" +123 Congratulations - in this week's competition draw u have won the £1450 prize to claim just call 09050002311 b4280703. T&Cs/stop SMS 08718727868. Over 18 only 150ppm \"]\n",
    "obj = pred(data)\n",
    "obj.prediction()"
   ]
  },
  {
   "cell_type": "markdown",
   "metadata": {},
   "source": [
    "# Loading Pickle file and Prediction"
   ]
  },
  {
   "cell_type": "code",
   "execution_count": 17,
   "metadata": {},
   "outputs": [
    {
     "name": "stdout",
     "output_type": "stream",
     "text": [
      "[0]\n",
      "Prediction is Ham\n"
     ]
    }
   ],
   "source": [
    "class load_model:\n",
    "    \n",
    "    def __init__(self, data):\n",
    "        self.data = data\n",
    "        \n",
    "    def pred(self):\n",
    "        try:\n",
    "            logging.info(\"Loading pickle file and Prediction\")\n",
    "            model = pickle.load(open(r'C:\\Users\\prash\\Desktop\\data\\SMS_Spam_Ham_Classification\\Extratrees_classifier.pkl','rb'))\n",
    "            cv = pickle.load(open(r'C:\\Users\\prash\\Desktop\\data\\SMS_Spam_Ham_Classification\\transform.pkl','rb'))\n",
    "            data = cv.transform(self.data)\n",
    "            y_pred = LR.predict(data)\n",
    "            print(y_pred)\n",
    "            if y_pred == 0:\n",
    "                print(\"Prediction is Ham\")\n",
    "            else:\n",
    "                print(\"Prediction is Spam\")\n",
    "        except Exception as e:\n",
    "            print(e)\n",
    "            logging.exception(e)\n",
    "            \n",
    "data = [\"&lt;#&gt;  am I think? Should say on syllabus\"]\n",
    "obj = load_model(data)\n",
    "obj.pred()"
   ]
  },
  {
   "cell_type": "code",
   "execution_count": null,
   "metadata": {},
   "outputs": [],
   "source": []
  }
 ],
 "metadata": {
  "kernelspec": {
   "display_name": "Python 3",
   "language": "python",
   "name": "python3"
  },
  "language_info": {
   "codemirror_mode": {
    "name": "ipython",
    "version": 3
   },
   "file_extension": ".py",
   "mimetype": "text/x-python",
   "name": "python",
   "nbconvert_exporter": "python",
   "pygments_lexer": "ipython3",
   "version": "3.8.5"
  }
 },
 "nbformat": 4,
 "nbformat_minor": 4
}
